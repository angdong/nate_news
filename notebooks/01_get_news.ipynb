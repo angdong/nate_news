{
 "cells": [
  {
   "attachments": {},
   "cell_type": "markdown",
   "metadata": {},
   "source": [
    "### NateNews Crawl\n",
    "* 날짜와 기사 개수를 입력해서 `pd.DatFrame` 형태로 받아오기"
   ]
  },
  {
   "attachments": {},
   "cell_type": "markdown",
   "metadata": {},
   "source": [
    "1. 상위 경로에 존재하는 `utils.py` 에 접근하기 위해 경로 추가"
   ]
  },
  {
   "cell_type": "code",
   "execution_count": 15,
   "metadata": {},
   "outputs": [],
   "source": [
    "import sys\n",
    "sys.path.append('..')"
   ]
  },
  {
   "attachments": {},
   "cell_type": "markdown",
   "metadata": {},
   "source": [
    "2. 뉴스 크롤을 위한 import"
   ]
  },
  {
   "cell_type": "code",
   "execution_count": 14,
   "metadata": {},
   "outputs": [],
   "source": [
    "from utils import get_urls, get_news, get_news_df"
   ]
  },
  {
   "attachments": {},
   "cell_type": "markdown",
   "metadata": {},
   "source": [
    "3. 주소 list 생성하기"
   ]
  },
  {
   "attachments": {},
   "cell_type": "markdown",
   "metadata": {},
   "source": [
    "```py\n",
    "url_list = get_urls()\n",
    "# 오늘 뉴스 기사들 주소\n",
    "\n",
    "url_list = get_urls(20220301)\n",
    "# 2022년 03월 01일의 뉴스 기사들 주소\n",
    "\n",
    "url_list = get_urls(artc1=5000)\n",
    "# 오늘 뉴스 기사들 주소(5천 번째 기사부터)\n",
    "\n",
    "url_list = get_urls(20220301, 20220302)\n",
    "# 2022년 03월 01일부터 2022년 03월 02일까지의 뉴스 기사들 주소\n",
    "\n",
    "url_list = get_urls(20220301, artc1=5000)\n",
    "# 2022년 03월 01일의 뉴스 기사들 주소(5천번째 기사부터)\n",
    "\n",
    "url_list = get_urls(20220301, artc1=5000, artc2=7000)\n",
    "# 2022년 03월 01일의 뉴스 기사들 주소(5천 번째 ~ 7천 번째 기사까지)\n",
    "\n",
    "url_list = get_urls(20220301, 20220302, artc1=5000, artc2=7000)\n",
    "# 2022년 03월 01일부터 2022년 03월 02일까지의 기사들 주소(5천 번째 ~ 7천 번째 기사까지)\n",
    "```"
   ]
  },
  {
   "cell_type": "code",
   "execution_count": 18,
   "metadata": {},
   "outputs": [],
   "source": [
    "# url_list 생성\n",
    "# 2022년 3월 1일의 기사들 주소 1000개를 받아 오기\n",
    "url_list = get_urls(20220301, artc1=1, artc2=1000)"
   ]
  },
  {
   "cell_type": "code",
   "execution_count": 19,
   "metadata": {},
   "outputs": [
    {
     "name": "stdout",
     "output_type": "stream",
     "text": [
      "1000\n",
      "['https://news.nate.com/view/20220301n00001', 'https://news.nate.com/view/20220301n00002', 'https://news.nate.com/view/20220301n00003', 'https://news.nate.com/view/20220301n00004', 'https://news.nate.com/view/20220301n00005']\n"
     ]
    }
   ],
   "source": [
    "# url 확인\n",
    "print(len(url_list))\n",
    "print(url_list[:5])"
   ]
  },
  {
   "attachments": {},
   "cell_type": "markdown",
   "metadata": {},
   "source": [
    "4. 생성된 `url_list` 를 이용해서 `NateNews` 객체 생성\n",
    "\n",
    "* 다음의 경우에만 `NateNews` 객체를 생성한다\n",
    "    1. 기사가 존재한다\n",
    "    2. '뉴스' 기사이다(_'연예', '스포츠' 는 제외_)\n",
    "    3. <span style=\"color:gray\">영어 뉴스 제외 예정</span>\n",
    "    3. <span style=\"color:gray\">포토 뉴스 제외 예정</span>"
   ]
  },
  {
   "cell_type": "code",
   "execution_count": 20,
   "metadata": {},
   "outputs": [],
   "source": [
    "# news_list 생성\n",
    "news_list = get_news(url_list)"
   ]
  },
  {
   "cell_type": "code",
   "execution_count": 21,
   "metadata": {},
   "outputs": [
    {
     "name": "stdout",
     "output_type": "stream",
     "text": [
      "636\n"
     ]
    }
   ],
   "source": [
    "# 위의 조건에 부합하는 뉴스 기사의 개수\n",
    "print(len(news_list))"
   ]
  },
  {
   "cell_type": "code",
   "execution_count": 22,
   "metadata": {},
   "outputs": [],
   "source": [
    "# 636개의 뉴스로 DataFrame 생성\n",
    "news_df = get_news_df(news_list)"
   ]
  },
  {
   "cell_type": "code",
   "execution_count": 23,
   "metadata": {},
   "outputs": [
    {
     "data": {
      "text/html": [
       "<div>\n",
       "<style scoped>\n",
       "    .dataframe tbody tr th:only-of-type {\n",
       "        vertical-align: middle;\n",
       "    }\n",
       "\n",
       "    .dataframe tbody tr th {\n",
       "        vertical-align: top;\n",
       "    }\n",
       "\n",
       "    .dataframe thead th {\n",
       "        text-align: right;\n",
       "    }\n",
       "</style>\n",
       "<table border=\"1\" class=\"dataframe\">\n",
       "  <thead>\n",
       "    <tr style=\"text-align: right;\">\n",
       "      <th></th>\n",
       "      <th>title</th>\n",
       "      <th>category</th>\n",
       "      <th>press</th>\n",
       "      <th>date</th>\n",
       "      <th>content</th>\n",
       "      <th>url</th>\n",
       "    </tr>\n",
       "  </thead>\n",
       "  <tbody>\n",
       "    <tr>\n",
       "      <th>0</th>\n",
       "      <td>미디어미래비전포럼, 차기정부에 '디지털미디어혁신부 신설' 제안</td>\n",
       "      <td>경제</td>\n",
       "      <td>MBN TV</td>\n",
       "      <td>2022-02-28 16:23</td>\n",
       "      <td>\\n\\t\\n\\n\\t\\t\\n\\n\\n방송통신미디어 전문가 200여명으로 구성된 미디어미...</td>\n",
       "      <td>https://news.nate.com/view/20220301n00001</td>\n",
       "    </tr>\n",
       "    <tr>\n",
       "      <th>1</th>\n",
       "      <td>'우왕좌왕' 방역패스 내일부터 모두 중단…청소년패스도 미적용</td>\n",
       "      <td>사회</td>\n",
       "      <td>서울신문</td>\n",
       "      <td>2022-02-28 18:51</td>\n",
       "      <td>\\n\\t\\n\\n\\t\\t\\n\\n\\n[서울신문]기본권 제한 논란이 끊이지 않았던 방역패...</td>\n",
       "      <td>https://news.nate.com/view/20220301n00006</td>\n",
       "    </tr>\n",
       "    <tr>\n",
       "      <th>2</th>\n",
       "      <td>푸틴, 핵무기 배치 임박…러, 키예프서 일단 후퇴</td>\n",
       "      <td>세계</td>\n",
       "      <td>서울신문</td>\n",
       "      <td>2022-02-28 18:51</td>\n",
       "      <td>\\n\\t\\n\\n\\t\\t\\n\\n\\n[서울신문]우크라이나를 침공한 블라디미르 푸틴 러시...</td>\n",
       "      <td>https://news.nate.com/view/20220301n00007</td>\n",
       "    </tr>\n",
       "    <tr>\n",
       "      <th>3</th>\n",
       "      <td>\"정찰 위성 개발 시험\" 北, ICBM 발사 수순</td>\n",
       "      <td>정치</td>\n",
       "      <td>서울신문</td>\n",
       "      <td>2022-02-28 18:51</td>\n",
       "      <td>\\n\\t\\n\\n\\t\\t\\n\\n\\n[서울신문]북한이 28일 전날 쏜 탄도미사일에 대해...</td>\n",
       "      <td>https://news.nate.com/view/20220301n00008</td>\n",
       "    </tr>\n",
       "    <tr>\n",
       "      <th>4</th>\n",
       "      <td>이재명 \"安·沈과 함께 정치교체\"…윤석열 \"민주당 교체가 정치개혁\"</td>\n",
       "      <td>정치</td>\n",
       "      <td>서울신문</td>\n",
       "      <td>2022-02-28 18:51</td>\n",
       "      <td>\\n\\t\\n\\n\\t\\t\\n\\n\\n[서울신문]■야권 단일화 결렬 파고들기“신라 화백처...</td>\n",
       "      <td>https://news.nate.com/view/20220301n00009</td>\n",
       "    </tr>\n",
       "  </tbody>\n",
       "</table>\n",
       "</div>"
      ],
      "text/plain": [
       "                                   title category   press              date  \\\n",
       "0     미디어미래비전포럼, 차기정부에 '디지털미디어혁신부 신설' 제안       경제  MBN TV  2022-02-28 16:23   \n",
       "1      '우왕좌왕' 방역패스 내일부터 모두 중단…청소년패스도 미적용       사회    서울신문  2022-02-28 18:51   \n",
       "2            푸틴, 핵무기 배치 임박…러, 키예프서 일단 후퇴       세계    서울신문  2022-02-28 18:51   \n",
       "3            \"정찰 위성 개발 시험\" 北, ICBM 발사 수순       정치    서울신문  2022-02-28 18:51   \n",
       "4  이재명 \"安·沈과 함께 정치교체\"…윤석열 \"민주당 교체가 정치개혁\"       정치    서울신문  2022-02-28 18:51   \n",
       "\n",
       "                                             content  \\\n",
       "0  \\n\\t\\n\\n\\t\\t\\n\\n\\n방송통신미디어 전문가 200여명으로 구성된 미디어미...   \n",
       "1  \\n\\t\\n\\n\\t\\t\\n\\n\\n[서울신문]기본권 제한 논란이 끊이지 않았던 방역패...   \n",
       "2  \\n\\t\\n\\n\\t\\t\\n\\n\\n[서울신문]우크라이나를 침공한 블라디미르 푸틴 러시...   \n",
       "3  \\n\\t\\n\\n\\t\\t\\n\\n\\n[서울신문]북한이 28일 전날 쏜 탄도미사일에 대해...   \n",
       "4  \\n\\t\\n\\n\\t\\t\\n\\n\\n[서울신문]■야권 단일화 결렬 파고들기“신라 화백처...   \n",
       "\n",
       "                                         url  \n",
       "0  https://news.nate.com/view/20220301n00001  \n",
       "1  https://news.nate.com/view/20220301n00006  \n",
       "2  https://news.nate.com/view/20220301n00007  \n",
       "3  https://news.nate.com/view/20220301n00008  \n",
       "4  https://news.nate.com/view/20220301n00009  "
      ]
     },
     "execution_count": 23,
     "metadata": {},
     "output_type": "execute_result"
    }
   ],
   "source": [
    "# 결과 확인\n",
    "news_df.head()"
   ]
  },
  {
   "cell_type": "code",
   "execution_count": null,
   "metadata": {},
   "outputs": [],
   "source": []
  }
 ],
 "metadata": {
  "kernelspec": {
   "display_name": "crawl",
   "language": "python",
   "name": "python3"
  },
  "language_info": {
   "codemirror_mode": {
    "name": "ipython",
    "version": 3
   },
   "file_extension": ".py",
   "mimetype": "text/x-python",
   "name": "python",
   "nbconvert_exporter": "python",
   "pygments_lexer": "ipython3",
   "version": "3.8.16 (default, Jan 17 2023, 16:42:09) \n[Clang 14.0.6 ]"
  },
  "orig_nbformat": 4,
  "vscode": {
   "interpreter": {
    "hash": "e061e6b29865f55b6a4dcb2bf42e53ae7c806c5be6808ab773025e9e34c6a5a2"
   }
  }
 },
 "nbformat": 4,
 "nbformat_minor": 2
}
