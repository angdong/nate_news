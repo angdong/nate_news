{
 "cells": [
  {
   "attachments": {},
   "cell_type": "markdown",
   "metadata": {},
   "source": [
    "### NateNews Crawl\n",
    "* 날짜와 기사 개수를 입력해서 `pd.DatFrame` 형태로 받아오기"
   ]
  },
  {
   "attachments": {},
   "cell_type": "markdown",
   "metadata": {},
   "source": [
    "1. 상위 경로에 존재하는 `utils.py` 에 접근하기 위해 경로 추가"
   ]
  },
  {
   "cell_type": "code",
   "execution_count": 15,
   "metadata": {},
   "outputs": [],
   "source": [
    "import sys\n",
    "sys.path.append('..')"
   ]
  },
  {
   "attachments": {},
   "cell_type": "markdown",
   "metadata": {},
   "source": [
    "2. 뉴스 크롤을 위한 import"
   ]
  },
  {
   "cell_type": "code",
   "execution_count": 14,
   "metadata": {},
   "outputs": [],
   "source": [
    "from utils import get_urls, get_news, get_news_df"
   ]
  },
  {
   "attachments": {},
   "cell_type": "markdown",
   "metadata": {},
   "source": [
    "3. 주소 list 생성하기"
   ]
  },
  {
   "attachments": {},
   "cell_type": "markdown",
   "metadata": {},
   "source": [
    "```py\n",
    "url_list = get_urls()\n",
    "# 오늘 뉴스 기사들 주소\n",
    "\n",
    "url_list = get_urls(20220301)\n",
    "# 2022년 03월 01일의 뉴스 기사들 주소\n",
    "\n",
    "url_list = get_urls(artc1=5000)\n",
    "# 오늘 뉴스 기사들 주소(5천 번째 기사부터)\n",
    "\n",
    "url_list = get_urls(20220301, 20220302)\n",
    "# 2022년 03월 01일부터 2022년 03월 02일까지의 뉴스 기사들 주소\n",
    "\n",
    "url_list = get_urls(20220301, artc1=5000)\n",
    "# 2022년 03월 01일의 뉴스 기사들 주소(5천번째 기사부터)\n",
    "\n",
    "url_list = get_urls(20220301, artc1=5000, artc2=7000)\n",
    "# 2022년 03월 01일의 뉴스 기사들 주소(5천 번째 ~ 7천 번째 기사까지)\n",
    "\n",
    "url_list = get_urls(20220301, 20220302, artc1=5000, artc2=7000)\n",
    "# 2022년 03월 01일부터 2022년 03월 02일까지의 기사들 주소(5천 번째 ~ 7천 번째 기사까지)\n",
    "```"
   ]
  },
  {
   "cell_type": "code",
   "execution_count": 18,
   "metadata": {},
   "outputs": [],
   "source": [
    "# url_list 생성\n",
    "# 2022년 3월 1일의 기사들 주소 1000개를 받아 오기\n",
    "url_list = get_urls(20220301, artc1=1, artc2=1000)"
   ]
  },
  {
   "cell_type": "code",
   "execution_count": 19,
   "metadata": {},
   "outputs": [
    {
     "name": "stdout",
     "output_type": "stream",
     "text": [
      "1000\n",
      "['https://news.nate.com/view/20220301n00001', 'https://news.nate.com/view/20220301n00002', 'https://news.nate.com/view/20220301n00003', 'https://news.nate.com/view/20220301n00004', 'https://news.nate.com/view/20220301n00005']\n"
     ]
    }
   ],
   "source": [
    "# url 확인\n",
    "print(len(url_list))\n",
    "print(url_list[:5])"
   ]
  },
  {
   "attachments": {},
   "cell_type": "markdown",
   "metadata": {},
   "source": [
    "4. 생성된 `url_list` 를 이용해서 `NateNews` 객체 생성\n",
    "\n",
    "* 다음의 경우에만 `NateNews` 객체를 생성한다\n",
    "    1. 기사가 존재한다\n",
    "    2. '뉴스' 기사이다(_'연예', '스포츠' 는 제외_)"
   ]
  }
 ],
 "metadata": {
  "kernelspec": {
   "display_name": "crawl",
   "language": "python",
   "name": "python3"
  },
  "language_info": {
   "codemirror_mode": {
    "name": "ipython",
    "version": 3
   },
   "file_extension": ".py",
   "mimetype": "text/x-python",
   "name": "python",
   "nbconvert_exporter": "python",
   "pygments_lexer": "ipython3",
   "version": "3.8.16"
  },
  "orig_nbformat": 4,
  "vscode": {
   "interpreter": {
    "hash": "e061e6b29865f55b6a4dcb2bf42e53ae7c806c5be6808ab773025e9e34c6a5a2"
   }
  }
 },
 "nbformat": 4,
 "nbformat_minor": 2
}
